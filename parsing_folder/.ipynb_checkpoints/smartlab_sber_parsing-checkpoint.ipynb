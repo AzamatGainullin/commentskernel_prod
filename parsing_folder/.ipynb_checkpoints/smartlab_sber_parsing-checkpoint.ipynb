{
 "cells": [
  {
   "cell_type": "code",
   "execution_count": 1,
   "id": "f7287709",
   "metadata": {},
   "outputs": [],
   "source": [
    "import requests\n",
    "from bs4 import BeautifulSoup\n",
    "import re\n",
    "import csv\n",
    "from time import sleep\n",
    "import random"
   ]
  },
  {
   "cell_type": "code",
   "execution_count": 3,
   "metadata": {},
   "outputs": [],
   "source": [
    "smartlab_last_page = 'https://smart-lab.ru/forum/SBER/page5883/'"
   ]
  },
  {
   "cell_type": "code",
   "execution_count": 4,
   "metadata": {},
   "outputs": [],
   "source": [
    "r = requests.get(smartlab_last_page)"
   ]
  },
  {
   "cell_type": "code",
   "execution_count": null,
   "metadata": {},
   "outputs": [],
   "source": []
  },
  {
   "cell_type": "code",
   "execution_count": null,
   "metadata": {},
   "outputs": [],
   "source": [
    "smartlab_html = smartlab_get_html(smartlab_last_page)"
   ]
  },
  {
   "cell_type": "code",
   "execution_count": null,
   "metadata": {},
   "outputs": [],
   "source": [
    "smartlab_soup = BeautifulSoup(smartlab_html, 'lxml')"
   ]
  },
  {
   "cell_type": "code",
   "execution_count": null,
   "metadata": {},
   "outputs": [],
   "source": []
  },
  {
   "cell_type": "code",
   "execution_count": null,
   "metadata": {},
   "outputs": [],
   "source": []
  },
  {
   "cell_type": "code",
   "execution_count": null,
   "metadata": {},
   "outputs": [],
   "source": []
  },
  {
   "cell_type": "code",
   "execution_count": null,
   "metadata": {},
   "outputs": [],
   "source": [
    "user_agent = {'User-Agent': 'Mozilla/5.0 (X11; Linux x86_64) AppleWebKit/537.36 (KHTML, like Gecko) Chrome/63.0.3239.132 "
   ]
  },
  {
   "cell_type": "code",
   "execution_count": 2,
   "id": "458d10a9",
   "metadata": {},
   "outputs": [],
   "source": [
    "def smartlab_get_html(smartlab_url):\n",
    "    r = requests.get(url, headers=user_agent)\n",
    "    return r.text\n",
    "\n",
    "def smartlab_get_page_data(url, smartlab_writer):\n",
    "    html = smartlab_get_html(url)\n",
    "    soup = BeautifulSoup(html, 'lxml')\n",
    "    comments = soup.find_all('li', {'data-type': 'comment'})\n",
    "    for comment in comments:\n",
    "        name = comment.find('a', class_='a_name trader_other').text\n",
    "        ct = comment.find('div', class_='text')\n",
    "        if 'blockquote' in str(ct):\n",
    "            try:\n",
    "                ct.find(\"blockquote\").extract()\n",
    "            except:\n",
    "                pass\n",
    "        text = ct.text.strip()\n",
    "        # print(text)\n",
    "        date = comment.find('time')['datetime'][:10]\n",
    "        data = {'name': name,\n",
    "                    'text': text,\n",
    "                    'date': date,\n",
    "                    'url': url}\n",
    "        smartlab_writer.writerow(data)\n",
    "\n",
    "def smartlab_get_last_page_number():\n",
    "    smartlab_last_page = 'https://smart-lab.ru/forum/SBER/page5883/'\n",
    "    try:\n",
    "        smartlab_html = smartlab_get_html(smartlab_last_page)\n",
    "        smartlab_soup = BeautifulSoup(smartlab_html, 'lxml')\n",
    "        smartlab_last_page_number = smartlab_soup.find('div', {'class': 'pagination1'}).find_all('a')[-1]['href'][-5:-1]\n",
    "    except:\n",
    "        print('SMARTLAB - CANT GET LAST PAGE NUMBER, SOME ERROR')\n",
    "        raise TypeError\n",
    "    return smartlab_last_page_number\n",
    "\n",
    "smartlab_file_name = 'smartlab_sber_downloaded.csv'\n",
    "\n",
    "smartlab_url = 'https://smart-lab.ru/forum/SBER/page{}/'"
   ]
  },
  {
   "cell_type": "code",
   "execution_count": 5,
   "id": "ab7bb92b",
   "metadata": {},
   "outputs": [],
   "source": [
    "# with open(smartlab_file_name, 'a') as f:\n",
    "#     smartlab_order = ['name', 'text', 'date', 'url']\n",
    "#     smartlab_writer = csv.DictWriter(f, fieldnames=smartlab_order)\n",
    "#     for i in range(5887, 5890):\n",
    "#         smartlab_get_page_data(smartlab_url.format(str(i)), smartlab_writer)\n",
    "#         sleep(random.randrange(2,7))"
   ]
  },
  {
   "cell_type": "code",
   "execution_count": 7,
   "metadata": {},
   "outputs": [],
   "source": [
    "def make_daily_download(smartlab_file_name):\n",
    "    smartlab_last_page_number = smartlab_get_last_page_number()\n",
    "    with open(smartlab_file_name, \"r\") as file:\n",
    "        scontents = file.readlines()\n",
    "        sstr1 = scontents[-1]\n",
    "        #str1 = file.readline()\n",
    "        smartlab_downloaded_page_number = sstr1.split()[-1][-5:-1]\n",
    "    if int(smartlab_last_page_number)-2 > int(smartlab_downloaded_page_number):\n",
    "        with open(smartlab_file_name, 'a') as f:\n",
    "            smartlab_order = ['name', 'text', 'date', 'url']\n",
    "            smartlab_writer = csv.DictWriter(f, fieldnames=smartlab_order)\n",
    "            for i in range(int(smartlab_downloaded_page_number)+1, int(smartlab_last_page_number)-1): # ЗДЕСЬ ПОМЕНЯЛ\n",
    "                smartlab_get_page_data(smartlab_url.format(str(i)), smartlab_writer)\n",
    "                sleep(random.randrange(1,3))\n",
    "        print('smartlab_writer_TEST: work done, FILE CLOSED')"
   ]
  }
 ],
 "metadata": {
  "kernelspec": {
   "display_name": "Python 3",
   "language": "python",
   "name": "python3"
  },
  "language_info": {
   "codemirror_mode": {
    "name": "ipython",
    "version": 3
   },
   "file_extension": ".py",
   "mimetype": "text/x-python",
   "name": "python",
   "nbconvert_exporter": "python",
   "pygments_lexer": "ipython3",
   "version": "3.7.9"
  }
 },
 "nbformat": 4,
 "nbformat_minor": 5
}
