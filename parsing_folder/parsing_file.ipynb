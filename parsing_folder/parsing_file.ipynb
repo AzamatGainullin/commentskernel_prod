{
 "cells": [
  {
   "cell_type": "code",
   "execution_count": 1,
   "metadata": {},
   "outputs": [],
   "source": [
    "import requests\n",
    "from bs4 import BeautifulSoup\n",
    "import re\n",
    "import csv\n",
    "from time import sleep\n",
    "import random\n",
    "import datetime, threading, time\n",
    "#downloaded_page_number = '82487'"
   ]
  },
  {
   "cell_type": "code",
   "execution_count": 2,
   "metadata": {},
   "outputs": [],
   "source": [
    "file_name = 'mfd_sber_downloaded.csv'\n",
    "user_agent = {'User-Agent': 'Mozilla/5.0 (X11; Linux x86_64) AppleWebKit/537.36 (KHTML, like Gecko) Chrome/63.0.3239.132 Safari/537.36'}\n",
    "url = 'http://forum.mfd.ru/forum/thread/?id=62075&page={}'"
   ]
  },
  {
   "cell_type": "code",
   "execution_count": 50,
   "metadata": {},
   "outputs": [],
   "source": [
    "def get_html(url):\n",
    "    r = requests.get(url, headers=user_agent)\n",
    "    return r.text\n",
    "\n",
    "def get_last_page_number():\n",
    "    last_page = 'http://forum.mfd.ru/forum/thread/?id=62075&page='\n",
    "    try:\n",
    "        html = get_html(last_page)\n",
    "        soup = BeautifulSoup(html, 'lxml')\n",
    "        paginator = soup.find('div', class_=\"mfd-paginator\")\n",
    "        last_page_number = paginator.find_all('a')[-1].text\n",
    "    except:\n",
    "        print('CANT GET LAST PAGE NUMBER, SOME ERROR')\n",
    "        raise TypeError\n",
    "    return last_page_number\n",
    "\n",
    "def get_page_data(url, writer):\n",
    "    try:\n",
    "        html = get_html(url)\n",
    "        soup = BeautifulSoup(html, 'lxml')\n",
    "        comments = soup.find_all('div', class_=\"mfd-post\")\n",
    "        for comment in comments:\n",
    "            try:\n",
    "                name = comment.find('div', class_='mfd-post-top-0').text\n",
    "                ct = comment.find('div', class_='mfd-post-text')\n",
    "                if 'blockquote' in str(ct):\n",
    "                    try:\n",
    "                        ct.find(\"blockquote\").extract()\n",
    "                    except:\n",
    "                        pass\n",
    "                text = ct.text.strip()\n",
    "                date = comment.find('div', class_='mfd-post-top-1').text[:10]\n",
    "                data = {'name': name,\n",
    "                            'text': text,\n",
    "                            'date': date,\n",
    "                            'url': url}\n",
    "                writer.writerow(data)\n",
    "            except:\n",
    "                #print(comment.text)\n",
    "                pass\n",
    "    except:\n",
    "        sleep(10)\n",
    "        print(url)\n",
    "        pass"
   ]
  },
  {
   "cell_type": "code",
   "execution_count": 61,
   "metadata": {},
   "outputs": [],
   "source": [
    "def make_daily_download():\n",
    "    last_page_number = get_last_page_number()\n",
    "    with open(file_name, \"r\") as file:\n",
    "        str1 = file.readline()\n",
    "        downloaded_page_number = str1.split()[-1].split('=')[-1]\n",
    "    if int(last_page_number)-1 > int(downloaded_page_number):\n",
    "        with open(file_name, 'a') as f:\n",
    "            order = ['name', 'text', 'date', 'url']\n",
    "            writer = csv.DictWriter(f, fieldnames=order)\n",
    "            for i in range(int(last_page_number)-1, int(downloaded_page_number), -1):\n",
    "                get_page_data(url.format(str(i)), writer)\n",
    "                sleep(random.randrange(1,3))\n",
    "        print('TEST: work done, FILE CLOSED')"
   ]
  }
 ],
 "metadata": {
  "kernelspec": {
   "display_name": "Python 3",
   "language": "python",
   "name": "python3"
  },
  "language_info": {
   "codemirror_mode": {
    "name": "ipython",
    "version": 3
   },
   "file_extension": ".py",
   "mimetype": "text/x-python",
   "name": "python",
   "nbconvert_exporter": "python",
   "pygments_lexer": "ipython3",
   "version": "3.7.9"
  }
 },
 "nbformat": 4,
 "nbformat_minor": 4
}
