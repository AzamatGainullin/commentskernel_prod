{
 "cells": [
  {
   "cell_type": "code",
   "execution_count": 1,
   "id": "f7287709",
   "metadata": {},
   "outputs": [],
   "source": [
    "import requests\n",
    "from bs4 import BeautifulSoup\n",
    "import re\n",
    "import csv\n",
    "from time import sleep\n",
    "import random\n",
    "from multiprocessing import Pool"
   ]
  },
  {
   "cell_type": "code",
   "execution_count": 2,
   "id": "458d10a9",
   "metadata": {},
   "outputs": [],
   "source": [
    "def get_html(url):\n",
    "    r = requests.get(url, headers=user_agent)\n",
    "    return r.text"
   ]
  },
  {
   "cell_type": "code",
   "execution_count": 3,
   "id": "5a2767a9",
   "metadata": {},
   "outputs": [],
   "source": [
    "def write_csv(data):\n",
    "    with open('mfd_sber.csv', 'a') as file:\n",
    "        order = ['name', 'text', 'date', 'url']\n",
    "        writer = csv.DictWriter(file, fieldnames=order)\n",
    "        writer.writerow(data)"
   ]
  },
  {
   "cell_type": "code",
   "execution_count": 4,
   "id": "c410f68b",
   "metadata": {},
   "outputs": [],
   "source": [
    "def get_page_data(html):\n",
    "    \n",
    "    soup = BeautifulSoup(html, 'lxml')\n",
    "    comments = soup.find_all('div', class_=\"mfd-post\")\n",
    "    for comment in comments:\n",
    "        try:\n",
    "            name = comment.find('div', class_='mfd-post-top-0').text\n",
    "            ct = comment.find('div', class_='mfd-post-text')\n",
    "            if 'blockquote' in str(ct):\n",
    "                try:\n",
    "                    ct.find(\"blockquote\").extract()\n",
    "                except:\n",
    "                    pass\n",
    "            text = ct.text.strip()\n",
    "            date = comment.find('div', class_='mfd-post-top-1').text[:10]\n",
    "            data = {'name': name,\n",
    "                        'text': text,\n",
    "                        'date': date,\n",
    "                        'url': '**************************************'}\n",
    "            write_csv(data)\n",
    "        except:\n",
    "            #print(comment.text)\n",
    "            pass"
   ]
  },
  {
   "cell_type": "code",
   "execution_count": 5,
   "id": "8cb33d01",
   "metadata": {},
   "outputs": [],
   "source": [
    "file_name = 'mfd_sber.csv'\n",
    "user_agent = {'User-Agent': 'Mozilla/5.0 (X11; Linux x86_64) AppleWebKit/537.36 (KHTML, like Gecko) Chrome/63.0.3239.132 Safari/537.36'}"
   ]
  },
  {
   "cell_type": "code",
   "execution_count": 6,
   "id": "dcfb94a3",
   "metadata": {},
   "outputs": [],
   "source": [
    "def make_all(url):\n",
    "    text = get_html(url)\n",
    "    get_page_data(text)"
   ]
  },
  {
   "cell_type": "code",
   "execution_count": 7,
   "id": "a24ff0d1",
   "metadata": {},
   "outputs": [],
   "source": [
    "def main():\n",
    "    url = 'http://forum.mfd.ru/forum/thread/?id=62075&page={}'\n",
    "    urls = [url.format(str(i)) for i in range(75754, 50000, -1)]\n",
    "\n",
    "    with Pool(10) as p:\n",
    "        p.map(make_all, urls)"
   ]
  },
  {
   "cell_type": "code",
   "execution_count": 9,
   "id": "cd99a1d9",
   "metadata": {},
   "outputs": [],
   "source": [
    "# main()"
   ]
  },
  {
   "cell_type": "markdown",
   "id": "c20c2a79",
   "metadata": {},
   "source": [
    "if 'blockquote' in str(comments[5].find('div', class_='mfd-post-text')):\n",
    "    comments[5].find('div', class_='mfd-post-text').find(\"blockquote\").extract()\n",
    "comments[5].find('div', class_='mfd-post-text').text"
   ]
  }
 ],
 "metadata": {
  "kernelspec": {
   "display_name": "Python 3",
   "language": "python",
   "name": "python3"
  },
  "language_info": {
   "codemirror_mode": {
    "name": "ipython",
    "version": 3
   },
   "file_extension": ".py",
   "mimetype": "text/x-python",
   "name": "python",
   "nbconvert_exporter": "python",
   "pygments_lexer": "ipython3",
   "version": "3.7.9"
  }
 },
 "nbformat": 4,
 "nbformat_minor": 5
}
